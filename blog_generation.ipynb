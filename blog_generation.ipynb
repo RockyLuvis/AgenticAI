{
 "cells": [
  {
   "cell_type": "code",
   "execution_count": 258,
   "metadata": {},
   "outputs": [],
   "source": [
    "import os\n",
    "from dotenv import load_dotenv\n",
    "load_dotenv()\n",
    "\n",
    "os.environ[\"GROQ_API_KEY\"] = os.getenv(\"GROQ_API_KEY\")\n",
    "os.environ[\"OPENAI_API_KEY\"] = os.getenv(\"OPENAI_API_KEY\")\n",
    "os.environ[\"SERPER_API_KEY\"] = os.getenv(\"SERPER_API_KEY\")\n"
   ]
  },
  {
   "cell_type": "code",
   "execution_count": 259,
   "metadata": {},
   "outputs": [],
   "source": [
    "from langchain_groq import ChatGroq"
   ]
  },
  {
   "cell_type": "code",
   "execution_count": 260,
   "metadata": {},
   "outputs": [],
   "source": [
    "import wikipediaapi\n",
    "import wikipedia\n",
    "from serpapi import GoogleSearch"
   ]
  },
  {
   "cell_type": "code",
   "execution_count": 261,
   "metadata": {},
   "outputs": [],
   "source": [
    "llm = ChatGroq(model=\"Gemma2-9b-It\", temperature=0.2)"
   ]
  },
  {
   "cell_type": "code",
   "execution_count": 262,
   "metadata": {},
   "outputs": [],
   "source": [
    "from langchain_core.messages import HumanMessage, SystemMessage\n",
    "from langgraph.graph import MessagesState"
   ]
  },
  {
   "cell_type": "code",
   "execution_count": 263,
   "metadata": {},
   "outputs": [],
   "source": [
    "sys_msg1 = SystemMessage (content = \"You are a helpful assistant tasked with generating blog title, pick the first catchy title.\")\n",
    "sys_msg2 = SystemMessage (content = \"You are writing the blog using {query}. Use the following search results {combined_result} for generation. \\\n",
    "                          You will generate the following 3 sections. \\\n",
    "                          1. introduction (50 words stating the core problem) \\\n",
    "                          2. main body containing technical details and problem solution within 300 words. \\\n",
    "                          3. Conclusion (50 words, summarizing the key messages. Make it concise and impactful). \\\n",
    "                          Ensure to mention clear section titles and bullet points. \")\n",
    "#sys_msg3 = SystemMessage (content = \"You are a helpful assistant tasked with generating concise and impactful ending within 50 words. Pick the first impactful ending. Clealy state Conclusion as the heading of the section.\")"
   ]
  },
  {
   "cell_type": "code",
   "execution_count": 265,
   "metadata": {},
   "outputs": [],
   "source": [
    "wiki_obj = wikipediaapi.Wikipedia(user_agent= \"MyAIApp/1.0 (ravibhattinkw@gmail.com)\",language=\"en\")\n",
    "def clean_query(query):\n",
    "        \n",
    "        ignore_words = [\"Generate a blog on\", \"Write about\", \"What is\", \"Who is\", \"Explain\"]\n",
    "    \n",
    "        for word in ignore_words:\n",
    "            query = query.replace(word, \"\").strip()\n",
    "\n",
    "        return query  # Return cleaned-up query for better Wikipedia search\n",
    "\n",
    "def fetch_wiki_data(query):\n",
    "\n",
    "    query = clean_query(query)\n",
    "\n",
    "    get_wiki_page = wikipedia.search(query)\n",
    "\n",
    "    #print(\"Get Wiki Page:\",get_wiki_page)\n",
    "\n",
    "    #best_match = wiki_obj.page (get_wiki_page[1]) # Fetch from wikipedia\n",
    "    for match in get_wiki_page:\n",
    "        try:\n",
    "            return wikipedia.summary(match, sentences=3)  # Limit to 3 sentences\n",
    "        except wikipedia.exceptions.PageError:\n",
    "            continue  # Try next title if PageError occurs\n",
    "        except wikipedia.exceptions.DisambiguationError as e:\n",
    "            return f\"Multiple results found: {e.options[:5]}...\"  # Show first 5 options\n",
    "    \n",
    "    #if best_match.exists():\n",
    "    #    return wikipedia.summary(best_match, sentences=5)\n",
    "    #else:\n",
    "    #    \"No Wikipedia data found\"\n",
    "\n",
    "#print(fetch_wiki_data(\"Generate a blog on Greatness of Novak Djokovic?\"))"
   ]
  },
  {
   "cell_type": "code",
   "execution_count": null,
   "metadata": {},
   "outputs": [],
   "source": [
    "def fetch_google_search_results(query):\n",
    "    # Search Google with serper API\n",
    "    params = {\n",
    "        \"engine\": \"google\",\n",
    "        \"q\": query,\n",
    "        #\"api_key\": os.environ[\"SERPER_API_KEY\"\n",
    "    }\n",
    "\n",
    "    search = GoogleSearch(params)\n",
    "    results = search.get_dict()\n",
    "    #print(\"🔍 Raw API Response:\", results)\n",
    "\n",
    "    top3_search = [result[\"snippet\"] for result in results.get(\"organic_results\", [])[:3]]  # Get top 3 snippets\n",
    "    return \" \".join(top3_search) if top3_search else \"No relevant search results found.\""
   ]
  },
  {
   "cell_type": "code",
   "execution_count": 270,
   "metadata": {},
   "outputs": [],
   "source": [
    "def title_generator(state: MessagesState):\n",
    "    title = llm.invoke([sys_msg1] + state[\"messages\"])  # No config needed\n",
    "    return {\"messages\": state[\"messages\"] + [title]}\n",
    "\n",
    "def mainbody_generator(state: MessagesState):\n",
    "    title_msg = state[\"messages\"][-1]  \n",
    "\n",
    "    query = state[\"messages\"][0].content\n",
    "\n",
    "    #print(\"query:\",query)\n",
    "\n",
    "    wiki_info = fetch_wiki_data(query)\n",
    "\n",
    "    #print(\"Wiki_info\",wiki_info)\n",
    "    \n",
    "    google_search_info = fetch_google_search_results(query)\n",
    "\n",
    "    combined_result = f\"Wikipedia Result: {wiki_info} \\n  Google Search Result: {google_search_info}\"\n",
    "\n",
    "    #print(\"combined_result:\", combined_result)\n",
    "    \n",
    "    main_body = llm.invoke([sys_msg2] + [title_msg])  \n",
    "    return {\"messages\": state[\"messages\"] + [main_body]}\n",
    "\n",
    "#def conclusion_generator(state: MessagesState):\n",
    "#    relevant_messages = state[\"messages\"][-2:]  \n",
    "#    conclusion = llm.invoke([sys_msg3] + relevant_messages)  \n",
    "#    return {\"messages\": state[\"messages\"] + [conclusion]}"
   ]
  },
  {
   "cell_type": "code",
   "execution_count": 271,
   "metadata": {},
   "outputs": [
    {
     "data": {
      "image/png": "[encoded data removed]",
      "text/plain": [
       "<IPython.core.display.Image object>"
      ]
     },
     "metadata": {},
     "output_type": "display_data"
    }
   ],
   "source": [
    "from langgraph.graph import START, StateGraph, END\n",
    "from IPython.display import Image, display\n",
    "\n",
    "builder = StateGraph(MessagesState)\n",
    "\n",
    "builder.add_node( \"title_generator\", title_generator)\n",
    "builder.add_node( \"mainbody_generator\", mainbody_generator)\n",
    "#builder.add_node( \"conclusion_generator\", conclusion_generator)\n",
    "\n",
    "builder.add_edge ( START, \"title_generator\" )\n",
    "builder.add_edge ( \"title_generator\", \"mainbody_generator\" )\n",
    "builder.add_edge ( \"mainbody_generator\", END)\n",
    "#builder.add_edge ( \"mainbody_generator\", \"conclusion_generator\")\n",
    "#builder.add_edge ( \"conclusion_generator\", END)\n",
    "\n",
    "react_graph = builder.compile()\n",
    "\n",
    "display (Image(react_graph.get_graph().draw_mermaid_png()))\n",
    "\n",
    "#messages = [HumanMessage(content = \"Generate a blog on Good AI Governance\")]\n",
    "#messages = react_graph.invoke({ \"messages\": messages})\n",
    "\n",
    "#for m in messages['messages']:\n",
    "    #m.pretty_print()"
   ]
  },
  {
   "cell_type": "code",
   "execution_count": null,
   "metadata": {},
   "outputs": [
    {
     "name": "stdout",
     "output_type": "stream",
     "text": [
      "================================\u001b[1m Human Message \u001b[0m=================================\n",
      "\n",
      "Generate a blog on Greatness of Novak Djokovic\n",
      "==================================\u001b[1m Ai Message \u001b[0m==================================\n",
      "\n",
      "##  Djokovic: The Maestro of the Court - A Legacy Forged in Grit and Grace \n",
      "\n",
      "\n",
      "Let's dive into a blog post celebrating Novak Djokovic's greatness!\n",
      "==================================\u001b[1m Ai Message \u001b[0m==================================\n",
      "\n",
      " \n",
      "### Introduction\n",
      "\n",
      "Novak Djokovic's dominance in tennis is undeniable.  He's consistently ranked among the world's best, but his journey to the top wasn't paved with privilege. This blog explores the technical aspects of his game and the mental fortitude that have made him a true champion.\n",
      "\n",
      "###  The Djokovic Formula: Technique and Tenacity\n",
      "\n",
      "Djokovic's success stems from a potent combination of exceptional technique and unwavering mental strength. \n",
      "\n",
      "* **Unmatched Return of Serve:** Djokovic's return of serve is legendary. He anticipates the serve's trajectory with uncanny accuracy, using his lightning-fast reflexes and exceptional court coverage to neutralize even the most powerful serves. \n",
      "\n",
      "* **Masterful Footwork:** Djokovic's agility and footwork are crucial to his success. He effortlessly glides across the court, reaching seemingly impossible shots with ease. This allows him to dictate the pace and direction of rallies, keeping his opponents constantly on the defensive.\n",
      "\n",
      "* **Mental Fortitude:**  Djokovic's mental toughness is as impressive as his physical prowess. He thrives under pressure, maintaining focus and composure even in the most intense matches. His ability to bounce back from setbacks and maintain a positive mindset is a testament to his unwavering belief in himself.\n",
      "\n",
      "### Conclusion\n",
      "\n",
      "Novak Djokovic's legacy transcends mere statistics. He embodies the spirit of a true champion, demonstrating that with unwavering dedication, exceptional technique, and an indomitable will, anything is possible on the court. His story inspires aspiring athletes and tennis fans worldwide.\n"
     ]
    }
   ],
   "source": [
    "messages = [HumanMessage(content = \"Generate a blog on Greatness of Novak Djokovic\")]\n",
    "messages = react_graph.invoke({ \"messages\": messages})\n",
    "\n",
    "for m in messages['messages']:\n",
    "    m.pretty_print()"
   ]
  },
  {
   "cell_type": "code",
   "execution_count": null,
   "metadata": {},
   "outputs": [],
   "source": []
  }
 ],
 "metadata": {
  "kernelspec": {
   "display_name": "venv",
   "language": "python",
   "name": "python3"
  },
  "language_info": {
   "codemirror_mode": {
    "name": "ipython",
    "version": 3
   },
   "file_extension": ".py",
   "mimetype": "text/x-python",
   "name": "python",
   "nbconvert_exporter": "python",
   "pygments_lexer": "ipython3",
   "version": "3.12.4"
  }
 },
 "nbformat": 4,
 "nbformat_minor": 2
}
